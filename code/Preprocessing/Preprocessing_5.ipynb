{
 "cells": [
  {
   "cell_type": "code",
   "execution_count": 2,
   "id": "049ab908",
   "metadata": {},
   "outputs": [],
   "source": [
    "import pandas as pd"
   ]
  },
  {
   "cell_type": "code",
   "execution_count": 13,
   "id": "67d181a6",
   "metadata": {},
   "outputs": [],
   "source": [
    "df=pd.read_excel('./billboard_result.xlsx')"
   ]
  },
  {
   "cell_type": "code",
   "execution_count": 14,
   "id": "ed1e11a0",
   "metadata": {},
   "outputs": [],
   "source": [
    "#오랫동안 사랑받은 노래 데이터\n",
    "df_long=df\n",
    "song_long = df_long.groupby('제목')['월'].nunique()\n",
    "# 차트에 전체 머문 시간 탐색\n",
    "df_long['차트인한 기간'] = df_long['제목'].map(song_long)"
   ]
  },
  {
   "cell_type": "code",
   "execution_count": 19,
   "id": "1dfd08f6",
   "metadata": {},
   "outputs": [],
   "source": [
    "df_long.to_excel('./billboard_result1.xlsx')"
   ]
  },
  {
   "cell_type": "code",
   "execution_count": null,
   "id": "d8117747",
   "metadata": {},
   "outputs": [],
   "source": []
  }
 ],
 "metadata": {
  "kernelspec": {
   "display_name": "Python 3 (ipykernel)",
   "language": "python",
   "name": "python3"
  },
  "language_info": {
   "codemirror_mode": {
    "name": "ipython",
    "version": 3
   },
   "file_extension": ".py",
   "mimetype": "text/x-python",
   "name": "python",
   "nbconvert_exporter": "python",
   "pygments_lexer": "ipython3",
   "version": "3.9.13"
  }
 },
 "nbformat": 4,
 "nbformat_minor": 5
}

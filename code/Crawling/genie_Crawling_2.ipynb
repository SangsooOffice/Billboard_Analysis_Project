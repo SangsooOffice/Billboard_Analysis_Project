{
 "cells": [
  {
   "cell_type": "code",
   "execution_count": 1,
   "id": "d9dfc36c",
   "metadata": {},
   "outputs": [],
   "source": [
    "from selenium import webdriver\n",
    "from bs4 import BeautifulSoup\n",
    "import time\n",
    "from tqdm import tqdm\n",
    "import pandas as pd"
   ]
  },
  {
   "cell_type": "code",
   "execution_count": 3,
   "id": "820146e9",
   "metadata": {},
   "outputs": [
    {
     "data": {
      "text/plain": [
       "3596"
      ]
     },
     "execution_count": 3,
     "metadata": {},
     "output_type": "execute_result"
    }
   ],
   "source": [
    "df=pd.read_excel('./빌보드.xlsx')\n",
    "len(df)"
   ]
  },
  {
   "cell_type": "code",
   "execution_count": 4,
   "id": "7fde084b",
   "metadata": {},
   "outputs": [
    {
     "data": {
      "text/plain": [
       "3596"
      ]
     },
     "execution_count": 4,
     "metadata": {},
     "output_type": "execute_result"
    }
   ],
   "source": [
    "#노래 제목에 *부분이 있는 음악은 검색이 불가능하여 제거\n",
    "cond1=df['제목'].str.contains('\\*')==False\n",
    "cond=cond1\n",
    "df=df[cond]\n",
    "len(df)"
   ]
  },
  {
   "cell_type": "code",
   "execution_count": 11,
   "id": "d2660bc1",
   "metadata": {},
   "outputs": [],
   "source": [
    "browser = webdriver.Chrome()\n",
    "url='https://www.genie.co.kr/'\n",
    "browser.get(url)\n",
    "time.sleep(1)"
   ]
  },
  {
   "cell_type": "code",
   "execution_count": 9,
   "id": "f94601a1",
   "metadata": {},
   "outputs": [],
   "source": [
    "result=[]"
   ]
  },
  {
   "cell_type": "code",
   "execution_count": 10,
   "id": "9d2debf8",
   "metadata": {},
   "outputs": [
    {
     "data": {
      "text/plain": [
       "[]"
      ]
     },
     "execution_count": 10,
     "metadata": {},
     "output_type": "execute_result"
    }
   ],
   "source": [
    "result"
   ]
  },
  {
   "cell_type": "code",
   "execution_count": 12,
   "id": "f895cc42",
   "metadata": {},
   "outputs": [
    {
     "name": "stderr",
     "output_type": "stream",
     "text": [
      "100%|████████████████████████████████████████████████████████████████████████████| 3596/3596 [3:57:20<00:00,  3.96s/it]\n"
     ]
    }
   ],
   "source": [
    "for i in tqdm(range(len(df))):\n",
    "    search=browser.find_elements('css selector', '#sc-fd')\n",
    "    title=df.iloc[i][3]\n",
    "    siger=df.iloc[i][4]\n",
    "    search[0].click()\n",
    "    search[0].clear()\n",
    "    search[0].send_keys(f'{siger} {title}\\n')\n",
    "    time.sleep(1)\n",
    "    html = browser.page_source\n",
    "    soup = BeautifulSoup(html, 'html.parser')\n",
    "    \n",
    "    #검색한 노래가 있는지 숫자로 확인(0이면 없다는 의미이다)\n",
    "    num=soup.select('div.search_song > div > span.article')\n",
    "    \n",
    "    #검색한 노래가 있는 경우\n",
    "    if len(num)!=0:\n",
    "        place=browser.find_elements('css selector', 'td.link > a')[0]\n",
    "        place.click()\n",
    "        time.sleep(1)\n",
    "        html = browser.page_source\n",
    "        soup = BeautifulSoup(html, 'html.parser')\n",
    "        information=soup.select('ul.info-data > li > span.value')\n",
    "        mood=information[2].text.strip()\n",
    "        music_length=information[3].text.strip()\n",
    "        lyrics_list=soup.select('pre#pLyrics > p')\n",
    "        lyrics=lyrics_list[0].text.strip()\n",
    "        data=mood,music_length,lyrics\n",
    "        result.append(data)\n",
    "    \n",
    "    #검색한 노래가 없는 경우\n",
    "    else:\n",
    "        \n",
    "        #검색한 노래가 없는 경우중에 가수이름에 Featuring가 들어가 있는 경우 Featuring앞의 내용만 출력\n",
    "        if 'Featuring' in siger:\n",
    "            split_sentence = siger.split(\"Featuring\")\n",
    "            siger=split_sentence[0].strip()\n",
    "            search=browser.find_elements('css selector', '#sc-fd')\n",
    "            search[0].click()\n",
    "            search[0].clear()\n",
    "            search[0].send_keys(f'{siger} {title}\\n')\n",
    "            time.sleep(1)\n",
    "            html = browser.page_source\n",
    "            soup = BeautifulSoup(html, 'html.parser')\n",
    "            \n",
    "            #Featuring앞의 내용의 가수로 다시 검색\n",
    "            num=soup.select('div.search_song > div > span.article')\n",
    "            \n",
    "            #노래가 존재하는 경우\n",
    "            if(len(num)!=0):\n",
    "                place=browser.find_elements('css selector', 'td.link > a')[0]\n",
    "                place.click()\n",
    "                time.sleep(1)\n",
    "                html = browser.page_source\n",
    "                soup = BeautifulSoup(html, 'html.parser')\n",
    "                information=soup.select('ul.info-data > li > span.value')\n",
    "                mood=information[2].text.strip()\n",
    "                music_length=information[3].text.strip()\n",
    "                lyrics_list=soup.select('pre#pLyrics > p')\n",
    "                lyrics=lyrics_list[0].text.strip()\n",
    "                data=mood,music_length,lyrics\n",
    "                result.append(data)\n",
    "                \n",
    "            #검색한 노래가 없는경우 미정으로 처리\n",
    "            else:\n",
    "                mood='미정'\n",
    "                music_length='미정'\n",
    "                lyrics='미정'\n",
    "                data=mood,music_length,lyrics\n",
    "                result.append(data)\n",
    "        \n",
    "        #Featuring가 포함되지 않은 경우\n",
    "        else:\n",
    "            \n",
    "            #처음 두 부분의 이름을 검색하여 노래를 찾는다.\n",
    "            split=siger.split()\n",
    "            siger=' '.join(split[:2])\n",
    "            search=browser.find_elements('css selector', '#sc-fd')\n",
    "            search[0].click()\n",
    "            search[0].clear()\n",
    "            search[0].send_keys(f'{siger} {title}\\n')\n",
    "            time.sleep(1)\n",
    "            html = browser.page_source\n",
    "            soup = BeautifulSoup(html, 'html.parser')\n",
    "            num=soup.select('div.search_song > div > span.article')\n",
    "            \n",
    "            #노래가 있는 경우\n",
    "            if(len(num)!=0):\n",
    "                place=browser.find_elements('css selector', 'td.link > a')[0]\n",
    "                place.click()\n",
    "                time.sleep(1)\n",
    "                html = browser.page_source\n",
    "                soup = BeautifulSoup(html, 'html.parser')\n",
    "                information=soup.select('ul.info-data > li > span.value')\n",
    "                mood=information[2].text.strip()\n",
    "                music_length=information[3].text.strip()\n",
    "                lyrics_list=soup.select('pre#pLyrics > p')\n",
    "                lyrics=lyrics_list[0].text.strip()\n",
    "                data=mood,music_length,lyrics\n",
    "                result.append(data)\n",
    "                \n",
    "            #노래가 없는 경우 미정 처리\n",
    "            else:\n",
    "                mood='미정'\n",
    "                music_length='미정'\n",
    "                lyrics='미정'\n",
    "                data=mood,music_length,lyrics\n",
    "                result.append(data)"
   ]
  },
  {
   "cell_type": "code",
   "execution_count": 13,
   "id": "6cdb6750",
   "metadata": {},
   "outputs": [],
   "source": [
    "df = pd.DataFrame(result)\n",
    "df.columns =['장르','재생시간','가사']"
   ]
  },
  {
   "cell_type": "code",
   "execution_count": 14,
   "id": "e9f7fd7c",
   "metadata": {},
   "outputs": [],
   "source": [
    "df.to_excel('./장르_가사.xlsx', index = False)"
   ]
  },
  {
   "cell_type": "code",
   "execution_count": null,
   "id": "d2794f44",
   "metadata": {},
   "outputs": [],
   "source": []
  }
 ],
 "metadata": {
  "kernelspec": {
   "display_name": "Python 3 (ipykernel)",
   "language": "python",
   "name": "python3"
  },
  "language_info": {
   "codemirror_mode": {
    "name": "ipython",
    "version": 3
   },
   "file_extension": ".py",
   "mimetype": "text/x-python",
   "name": "python",
   "nbconvert_exporter": "python",
   "pygments_lexer": "ipython3",
   "version": "3.9.13"
  }
 },
 "nbformat": 4,
 "nbformat_minor": 5
}

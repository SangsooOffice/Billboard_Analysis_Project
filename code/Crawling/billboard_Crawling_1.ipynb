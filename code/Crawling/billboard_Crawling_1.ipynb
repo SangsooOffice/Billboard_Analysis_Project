{
 "cells": [
  {
   "cell_type": "code",
   "execution_count": 1,
   "id": "db90908d",
   "metadata": {},
   "outputs": [],
   "source": [
    "from selenium import webdriver\n",
    "from bs4 import BeautifulSoup\n",
    "import time\n",
    "from tqdm import tqdm"
   ]
  },
  {
   "cell_type": "code",
   "execution_count": 2,
   "id": "1e06ea73",
   "metadata": {},
   "outputs": [],
   "source": [
    "browser = webdriver.Chrome()\n",
    "url='https://www.billboard.com/charts/hot-100/2020-10-17/'\n",
    "browser.get(url)\n",
    "time.sleep(1)"
   ]
  },
  {
   "cell_type": "code",
   "execution_count": 3,
   "id": "3623bc30",
   "metadata": {},
   "outputs": [],
   "source": [
    "result=[]"
   ]
  },
  {
   "cell_type": "code",
   "execution_count": 7,
   "id": "611aecc4",
   "metadata": {},
   "outputs": [],
   "source": [
    "for i in range(11, 47):\n",
    "    #크게 지정\n",
    "    browser.maximize_window()\n",
    "    #스크롤 내림\n",
    "    browser.execute_script(\"window.scrollBy(0, 330);\")\n",
    "    time.sleep(2)\n",
    "    \n",
    "    #Billboard에서 날짜를 선택하는 icon을 찾는다\n",
    "    calendar_list=browser.find_elements('css selector','main > div > div > div > div > div > div > div > a > svg')\n",
    "    calendar_list[1].click()\n",
    "    time.sleep(1)\n",
    "    \n",
    "    #날짜를 클릭하면 다음달로 넘어가는 화살표가 보인다.\n",
    "    down_list=browser.find_elements('css selector','div > button.e-next')\n",
    "    down_list[0].click()\n",
    "    time.sleep(1)\n",
    "    \n",
    "    #일주일간 변화는 차이가 없어 한달간 변화를 보려고\n",
    "    #똑같은 주에 대한 정보를 클릭\n",
    "    date_list=browser.find_elements('css selector','div > table > tbody > tr')\n",
    "    date_list[3].click()\n",
    "    time.sleep(40)\n",
    "    html = browser.page_source\n",
    "    soup = BeautifulSoup(html, 'html.parser')\n",
    "    tag_list=soup.select('div.o-chart-results-list-row-container')\n",
    "    \n",
    "    #2020년 11월부터 2023년 10월까지 크롤링하려고 했는데\n",
    "    #날짜를 잘못 지정해서 데이터를 합칠때 수정하였음\n",
    "    month=i%12\n",
    "    if(month==0):\n",
    "        month=12\n",
    "        up=(i//12)-1\n",
    "        year=2019+up\n",
    "    else:\n",
    "        up=i//12\n",
    "        year=2019+up\n",
    "    \n",
    "    for tag in tag_list:\n",
    "        title=tag.select('li > #title-of-a-story')[0].text.strip()\n",
    "        singer=tag.select('li.lrv-u-width-100p > ul > li > span')[0].text.strip()\n",
    "        data=year,month,title,singer\n",
    "        result.append(data)"
   ]
  },
  {
   "cell_type": "code",
   "execution_count": 8,
   "id": "ba306587",
   "metadata": {},
   "outputs": [],
   "source": [
    "import pandas as pd\n",
    "df = pd.DataFrame(result)\n",
    "df.columns =['년도','월','제목','가수']"
   ]
  },
  {
   "cell_type": "code",
   "execution_count": 10,
   "id": "4d5e500a",
   "metadata": {},
   "outputs": [
    {
     "name": "stderr",
     "output_type": "stream",
     "text": [
      "100%|██████████| 3600/3600 [00:00<00:00, 716975.04it/s]\n"
     ]
    }
   ],
   "source": [
    "data=[]\n",
    "for i in tqdm(range(len(df))):\n",
    "    rank=(i+1)%100\n",
    "    if rank == 0:\n",
    "        rank = 100\n",
    "    data.append(rank)"
   ]
  },
  {
   "cell_type": "code",
   "execution_count": 11,
   "id": "b3dc2bd3",
   "metadata": {},
   "outputs": [],
   "source": [
    "df['순위']=data"
   ]
  },
  {
   "cell_type": "code",
   "execution_count": 15,
   "id": "bb0d34b8",
   "metadata": {},
   "outputs": [],
   "source": [
    "df=df[['순위','년도','월','제목','가수']]"
   ]
  },
  {
   "cell_type": "code",
   "execution_count": 14,
   "id": "23ff76e8",
   "metadata": {},
   "outputs": [],
   "source": [
    "df.to_excel('./빌보드차트.xlsx', index = False)"
   ]
  },
  {
   "cell_type": "code",
   "execution_count": null,
   "id": "ca4773eb",
   "metadata": {},
   "outputs": [],
   "source": []
  }
 ],
 "metadata": {
  "kernelspec": {
   "display_name": "Python 3 (ipykernel)",
   "language": "python",
   "name": "python3"
  },
  "language_info": {
   "codemirror_mode": {
    "name": "ipython",
    "version": 3
   },
   "file_extension": ".py",
   "mimetype": "text/x-python",
   "name": "python",
   "nbconvert_exporter": "python",
   "pygments_lexer": "ipython3",
   "version": "3.9.13"
  }
 },
 "nbformat": 4,
 "nbformat_minor": 5
}
